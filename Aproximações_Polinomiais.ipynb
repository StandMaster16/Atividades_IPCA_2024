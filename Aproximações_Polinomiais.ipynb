{
  "nbformat": 4,
  "nbformat_minor": 0,
  "metadata": {
    "colab": {
      "provenance": [],
      "authorship_tag": "ABX9TyMQ3R0XHeB74fz1rdVbPPb/"
    },
    "kernelspec": {
      "name": "python3",
      "display_name": "Python 3"
    },
    "language_info": {
      "name": "python"
    }
  },
  "cells": [
    {
      "cell_type": "markdown",
      "source": [
        "\n",
        "# Aproximações Trigonométricas"
      ],
      "metadata": {
        "id": "cuRLy_NyUI76"
      }
    },
    {
      "cell_type": "markdown",
      "source": [
        "\n",
        "## Caso discreto"
      ],
      "metadata": {
        "id": "2gIk-vCRKfrV"
      }
    },
    {
      "cell_type": "code",
      "source": [
        "# Bibliotecas utilizadas\n",
        "\n",
        "import sympy as sp\n",
        "import numpy as np\n",
        "import matplotlib.pyplot as plt\n",
        "\n",
        "from sympy import *\n",
        "from IPython.display import *"
      ],
      "metadata": {
        "id": "rvzSAwTibp5g"
      },
      "execution_count": null,
      "outputs": []
    },
    {
      "cell_type": "code",
      "source": [
        "# Demonstrando a definição de x de k\n",
        "\n",
        "x_k = sp.Function('x_k')                       # Definimos x de k como um função sympy\n",
        "k_definicao = sp.Symbol('k = 1, 2, 3, ..., N')   # A definição de k como sendo os pontos de 1 até N\n",
        "N, k= symbols('N, k')                           # Definindo N e k como símbolos sympy\n",
        "\n",
        "x_k = (2*k*sp.pi)/N         # Você pode montar qualquer função que quiser, vamos supor que seja essa\n",
        "\n",
        "display(Eq(symbols('x_k'), x_k))    # Imprimindo a definição\n",
        "display(HTML(\"<p></p>\"))            # Quebra de linha\n",
        "k_definicao                         # Quantidade de pontos"
      ],
      "metadata": {
        "id": "D38gA_BeLmp6"
      },
      "execution_count": null,
      "outputs": []
    },
    {
      "cell_type": "code",
      "source": [
        "# Demonstrando a definição da aproximação polinomial para equações periódicas\n",
        "\n",
        "L, x = symbols('N, L, x')                # Definição de L e x como símbolos sympy\n",
        "a0, a1, a2, aL = symbols('a0, a1, a2, aL')   # Definição dos coeficientes a0, a1, a2 e aL como símbolos sympy\n",
        "b1, b2, b3, bL = symbols('b1, b2, b3, bL')    # Definição dos coeficientes b1, b2, b3 e bl como símbolos sympy\n",
        "\n",
        "F_L = a0 + a1*sp.cos(x) + b1*sp.sin(x) + a2*sp.cos(2*x) + b2*sp.sin(2*x) + aL*sp.cos(L*x) + bL*sp.sin(L*x)    # Definição da aproximação linear periódica\n",
        "\n",
        "display(Eq(symbols('F_{L}(x)'), F_L))       # Imprimindo a combinação linear\n",
        "display(HTML(\"<p></p>\"))                    # Quebra de linha\n",
        "display(Le(L, N/2))                         # Imprimindo a condição de periodicidade"
      ],
      "metadata": {
        "id": "vdeJ4hfXatle"
      },
      "execution_count": null,
      "outputs": []
    },
    {
      "cell_type": "code",
      "source": [
        "# Demonstrando as equações dos coeficientes da aproximação\n",
        "\n",
        "a0 = sp.Function('a0')                               # Definindo a0, ai, bi como funções sympy\n",
        "ai = sp.Function('a_i')\n",
        "bi = sp.Function('b_i')\n",
        "N, k, xk, y, i = symbols('N, k, x_k, f(x_{k}), i')   # Definindo N, k, x_k, y (que é a imagem de x de k), e i (ordem) como símbolos sympy\n",
        "i_definicao = sp.Symbol('i = 1, 2, ..., L')          # Definição de i como os valores até a ordem L\n",
        "\n",
        "a0 = 1/N*sp.Sum(y, (k, 1, N))                        # Fórmulas de a0, ai e bi\n",
        "ai = 2/N*sp.Sum(y*sp.cos(i*xk), (k, 1, N))\n",
        "bi = 2/N*sp.Sum(y*sp.sin(i*xk), (k, 1, N))\n",
        "\n",
        "display(Eq(symbols('a_0'), a0))                      # Imprimindo as equações\n",
        "display(HTML(\"<p></p>\"))\n",
        "display(Eq(symbols('a_i'), ai))\n",
        "display(HTML(\"<p></p>\"))\n",
        "display(Eq(symbols('b_i'), bi))\n",
        "display(HTML(\"<p></p>\"))\n",
        "i_definicao                                          # Quantidade de pontos"
      ],
      "metadata": {
        "id": "-qVqwDlXOrnf"
      },
      "execution_count": null,
      "outputs": []
    },
    {
      "cell_type": "code",
      "source": [
        "# Calculando usando dados\n",
        "# OBS: Coloque os dados no dicionário data abaixo\n",
        "\n",
        "a0 = sp.Function('a0')              # Definindo os coeficientes e a equação da aproximação como funções sympy\n",
        "ai = sp.Function('a_i')\n",
        "bi = sp.Function('b_i')\n",
        "Fi = sp.Function('F_i(x)')\n",
        "x = sp.Symbol('x')                  # Definindo x como as \"voltas\" no círculo trigonométrico até a ordem\n",
        "\n",
        "soma_ai = 0                         # Fazemos os somatórios dos coeficientes ai e bi separadamente\n",
        "soma_bi = 0\n",
        "\n",
        "ai_values = []                      # Organizamos os valores dos coeficientes em uma lista\n",
        "bi_values = []\n",
        "\n",
        "data = {\n",
        "    'x': [pi/4, pi/2, 3*pi/4, pi, 5*pi/4, 3*pi/2, 7*pi/4, 2*pi], # Valores de x de k\n",
        "    'f(x)': [126, 159, 191, 178, 183, 179, 176, 149],  # Valores da imagem de x de k\n",
        "    'N': 8,   # Quantidade de pontos        OBS: Tem que ser condizente com os dados de x e f(x) colocados, se N = 8 é porque há 8 valores de x e f(x), grato.\n",
        "    'L': 1    # Ordem da aproximação\n",
        "}\n",
        "\n",
        "a0 = 1/data['N']*sp.Add(*data['f(x)']) # Coeficiente a0\n",
        "display(Eq(symbols('a_0'), a0))        # Imprimindo o coeficiente\n",
        "display(HTML(\"<p></p>\"))               # Quebra de linha\n",
        "\n",
        "for j in range(1, data['L']+1, 1):     # Imprimindo todos os coeficientes ai até o valor da ordem\n",
        "  for i in range(0, data['N'], 1):\n",
        "    soma_ai += (data['f(x)'][i]*sp.cos(j*data['x'][i]))  # Fazemos o somatório separadamente para ficar mais intuitivo (e fácil tbm ne)\n",
        "    ai = (2/data['N'])*soma_ai\n",
        "    if i == data['N']-1:\n",
        "      ai_values.append(ai)                               # Adicionamos os valores de ai numa lista para montar a equação final\n",
        "      display(Eq(symbols('a_i'), ai))\n",
        "      display(HTML(\"<p></p>\"))\n",
        "      display(Eq(sp.Symbol('i'), j))\n",
        "      soma_ai = 0\n",
        "\n",
        "for j in range(1, data['L']+1, 1):     # Imprimindo todos os coeficientes bi até o valor da ordem\n",
        "  for i in range(0, data['N'], 1):\n",
        "    soma_bi += (data['f(x)'][i]*sp.sin(j*data['x'][i]))  # Fazemos o somatório separadamente para ficar mais intuitivo\n",
        "    bi = (2/data['N'])*soma_bi\n",
        "    if i == data['N']-1:\n",
        "      bi_values.append(bi)                               # Adicionamos os valores de bi numa lista para montar a equação final\n",
        "      display(Eq(symbols('b_i'), bi))\n",
        "      display(HTML(\"<p></p>\"))\n",
        "      display(Eq(sp.Symbol('i'), j))\n",
        "      soma_bi = 0\n",
        "\n",
        "Fi = a0                                                  # A equação final sempre inicia com o coeficiente a0\n",
        "\n",
        "for i in range(0, data['L'], 1):\n",
        "  Fi += ai_values[i]*sp.cos(x) + bi_values[i]*sp.sin(x)\n",
        "  if i == data['L']-1:\n",
        "    display(Eq(symbols('F_{L}(x)'), Fi))                # Imprimindo a equação final\n"
      ],
      "metadata": {
        "id": "ecPiFH8b0MvZ",
        "colab": {
          "base_uri": "https://localhost:8080/",
          "height": 177
        },
        "outputId": "5daadac6-c7b6-4637-b18d-b2c849dced5b"
      },
      "execution_count": null,
      "outputs": [
        {
          "output_type": "display_data",
          "data": {
            "text/plain": [
              "Eq(a_0, 167.625)"
            ],
            "text/latex": "$\\displaystyle a_{0} = 167.625$"
          },
          "metadata": {}
        },
        {
          "output_type": "display_data",
          "data": {
            "text/plain": [
              "<IPython.core.display.HTML object>"
            ],
            "text/html": [
              "<p></p>"
            ]
          },
          "metadata": {}
        },
        {
          "output_type": "display_data",
          "data": {
            "text/plain": [
              "Eq(a_i, -9.0*sqrt(2) - 7.25)"
            ],
            "text/latex": "$\\displaystyle a_{i} = - 9.0 \\sqrt{2} - 7.25$"
          },
          "metadata": {}
        },
        {
          "output_type": "display_data",
          "data": {
            "text/plain": [
              "<IPython.core.display.HTML object>"
            ],
            "text/html": [
              "<p></p>"
            ]
          },
          "metadata": {}
        },
        {
          "output_type": "display_data",
          "data": {
            "text/plain": [
              "Eq(i, 1)"
            ],
            "text/latex": "$\\displaystyle i = 1$"
          },
          "metadata": {}
        },
        {
          "output_type": "display_data",
          "data": {
            "text/plain": [
              "Eq(b_i, -5.25*sqrt(2) - 5.0)"
            ],
            "text/latex": "$\\displaystyle b_{i} = - 5.25 \\sqrt{2} - 5.0$"
          },
          "metadata": {}
        },
        {
          "output_type": "display_data",
          "data": {
            "text/plain": [
              "<IPython.core.display.HTML object>"
            ],
            "text/html": [
              "<p></p>"
            ]
          },
          "metadata": {}
        },
        {
          "output_type": "display_data",
          "data": {
            "text/plain": [
              "Eq(i, 1)"
            ],
            "text/latex": "$\\displaystyle i = 1$"
          },
          "metadata": {}
        },
        {
          "output_type": "display_data",
          "data": {
            "text/plain": [
              "Eq(F_{L}(x), (-5.25*sqrt(2) - 5.0)*sin(x) + (-9.0*sqrt(2) - 7.25)*cos(x) + 167.625)"
            ],
            "text/latex": "$\\displaystyle F_{L}(x) = \\left(- 5.25 \\sqrt{2} - 5.0\\right) \\sin{\\left(x \\right)} + \\left(- 9.0 \\sqrt{2} - 7.25\\right) \\cos{\\left(x \\right)} + 167.625$"
          },
          "metadata": {}
        }
      ]
    },
    {
      "cell_type": "code",
      "source": [
        "# Plotando o gráfico da aproximação\n",
        "\n",
        "fig, ax = plt.subplots()\n",
        "\n",
        "ax.set_xlim(-10, 30)\n",
        "ax.set_ylim(100, 220)\n",
        "\n",
        "ax.grid(True)\n",
        "\n",
        "for i in range(0, data['N'], 1):\n",
        "  ax.plot(data['x'][i], data['f(x)'][i], 'ro')\n",
        "\n",
        "t_vals = np.linspace(-10, 30, 200)\n",
        "Fi_vals = []\n",
        "\n",
        "for i in range(0, len(t_vals), 1):\n",
        "  Fi_vals.append(Fi.subs(x, t_vals[i]))\n",
        "\n",
        "ax.plot(t_vals, Fi_vals)\n",
        "\n",
        "plt.show()"
      ],
      "metadata": {
        "colab": {
          "base_uri": "https://localhost:8080/",
          "height": 435
        },
        "id": "5dqgKuw4iRTQ",
        "outputId": "c74333ec-3af5-4110-9464-2a728f63ff8a"
      },
      "execution_count": null,
      "outputs": [
        {
          "output_type": "display_data",
          "data": {
            "text/plain": [
              "<Figure size 640x480 with 1 Axes>"
            ],
            "image/png": "[encoded data removed]"
          },
          "metadata": {}
        }
      ]
    }
  ]
}